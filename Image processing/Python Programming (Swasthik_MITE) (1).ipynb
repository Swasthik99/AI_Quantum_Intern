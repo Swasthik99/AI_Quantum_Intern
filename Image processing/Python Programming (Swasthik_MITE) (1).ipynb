{
 "cells": [
  {
   "cell_type": "markdown",
   "id": "5c5095f0",
   "metadata": {},
   "source": [
    "# Swasthik\n",
    "# MITE"
   ]
  },
  {
   "cell_type": "markdown",
   "id": "210ec851",
   "metadata": {},
   "source": [
    "# Tutorial on Python Programming"
   ]
  },
  {
   "cell_type": "code",
   "execution_count": 1,
   "id": "6ef7fd9d",
   "metadata": {},
   "outputs": [
    {
     "data": {
      "text/plain": [
       "array([0, 1, 2, 3, 4])"
      ]
     },
     "execution_count": 1,
     "metadata": {},
     "output_type": "execute_result"
    }
   ],
   "source": [
    "import numpy as np\n",
    "a = np.arange(5)\n",
    "a"
   ]
  },
  {
   "cell_type": "code",
   "execution_count": 2,
   "id": "7ad88c70",
   "metadata": {},
   "outputs": [
    {
     "data": {
      "text/plain": [
       "array([0., 1., 2.])"
      ]
     },
     "execution_count": 2,
     "metadata": {},
     "output_type": "execute_result"
    }
   ],
   "source": [
    "a = np.arange(3.0) \n",
    "\n",
    "a"
   ]
  },
  {
   "cell_type": "code",
   "execution_count": 4,
   "id": "e4388f73",
   "metadata": {},
   "outputs": [
    {
     "data": {
      "text/plain": [
       "array([2, 3, 4, 5, 6])"
      ]
     },
     "execution_count": 4,
     "metadata": {},
     "output_type": "execute_result"
    }
   ],
   "source": [
    "import numpy as np\n",
    "\n",
    "a = np.arange(2,7,1) \n",
    "a"
   ]
  },
  {
   "cell_type": "code",
   "execution_count": 5,
   "id": "727faaaf",
   "metadata": {},
   "outputs": [
    {
     "data": {
      "text/plain": [
       "array([3, 6])"
      ]
     },
     "execution_count": 5,
     "metadata": {},
     "output_type": "execute_result"
    }
   ],
   "source": [
    "import numpy as np\n",
    "\n",
    "a = np.arange(3,8,3) \n",
    "a"
   ]
  },
  {
   "cell_type": "markdown",
   "id": "4a85d9bb",
   "metadata": {},
   "source": [
    "# Alternate method for Array Creation"
   ]
  },
  {
   "cell_type": "code",
   "execution_count": 6,
   "id": "3d35e91a",
   "metadata": {},
   "outputs": [
    {
     "data": {
      "text/plain": [
       "array([2, 5, 7, 6])"
      ]
     },
     "execution_count": 6,
     "metadata": {},
     "output_type": "execute_result"
    }
   ],
   "source": [
    "import numpy as np\n",
    "a = np.array([2,5,7,6])\n",
    "a"
   ]
  },
  {
   "cell_type": "code",
   "execution_count": 7,
   "id": "535db27c",
   "metadata": {},
   "outputs": [
    {
     "name": "stdout",
     "output_type": "stream",
     "text": [
      "[2 3 4 6]\n"
     ]
    }
   ],
   "source": [
    "import numpy as np\n",
    "a = np.array([2,3,4,6])\n",
    "print(a)"
   ]
  },
  {
   "cell_type": "code",
   "execution_count": 8,
   "id": "f3f74a07",
   "metadata": {},
   "outputs": [
    {
     "name": "stdout",
     "output_type": "stream",
     "text": [
      "2D Numpy Array\n",
      "[[11 12 13 11]\n",
      " [21 22 23 24]\n",
      " [31 32 33 34]]\n"
     ]
    }
   ],
   "source": [
    "X2D = np.array([[11 ,12,13,11], [21, 22, 23, 24], [31,32,33,34]])\n",
    "\n",
    "print('2D Numpy Array')\n",
    "print(X2D)"
   ]
  },
  {
   "cell_type": "markdown",
   "id": "66fb580e",
   "metadata": {},
   "source": [
    "# IIlustarive Examples of ndarray.shape[]"
   ]
  },
  {
   "cell_type": "code",
   "execution_count": 10,
   "id": "d4b03adf",
   "metadata": {},
   "outputs": [
    {
     "name": "stdout",
     "output_type": "stream",
     "text": [
      "Shape of 1D numpy array :  (8,)\n",
      "length of 1D numpy array :  8\n",
      "8\n"
     ]
    }
   ],
   "source": [
    "# Example 1\n",
    "\n",
    "#Get Dimensions of a 1D NumPy array using ndarray.shape\n",
    "# Create a Numpy array from list of numbers\n",
    "X1D = np.array([4, 5, 6, 7, 8, 9, 10, 11])\n",
    "\n",
    "print('Shape of 1D numpy array : ', X1D.shape)\n",
    "print('length of 1D numpy array : ', X1D.shape[0])\n",
    "\n",
    "\n",
    "print(len(X1D))"
   ]
  },
  {
   "cell_type": "code",
   "execution_count": 11,
   "id": "ded74e69",
   "metadata": {},
   "outputs": [
    {
     "name": "stdout",
     "output_type": "stream",
     "text": [
      "2D Numpy Array\n",
      "[[11 12 13 11]\n",
      " [21 22 23 24]\n",
      " [31 32 33 34]]\n",
      "Shape of 2D Array\n",
      "(3, 4)\n"
     ]
    }
   ],
   "source": [
    "#Example 2\n",
    "\n",
    "# Create a 2D Numpy array list of list\n",
    "import numpy as np\n",
    "X2D = np.array([[11 ,12,13,11], [21, 22, 23, 24], [31,32,33,34]])\n",
    "print('2D Numpy Array')\n",
    "print(X2D)\n",
    "print(\"Shape of 2D Array\")\n",
    "print(X2D.shape)"
   ]
  },
  {
   "cell_type": "code",
   "execution_count": 12,
   "id": "c56c857d",
   "metadata": {},
   "outputs": [
    {
     "name": "stdout",
     "output_type": "stream",
     "text": [
      "Number of Rows :  3\n"
     ]
    }
   ],
   "source": [
    "#Get number of rows in this 2D NumPy array i.e.\n",
    "\n",
    "numOfRows = X2D.shape[0]\n",
    "print('Number of Rows : ', numOfRows)"
   ]
  },
  {
   "cell_type": "code",
   "execution_count": 13,
   "id": "3bdda1b4",
   "metadata": {},
   "outputs": [
    {
     "name": "stdout",
     "output_type": "stream",
     "text": [
      "Number of Rows :  3\n"
     ]
    }
   ],
   "source": [
    "#Get number of rows in this 2D NumPy array i.e.\n",
    "\n",
    "numOfRows = np.size(X2D,0)\n",
    "print('Number of Rows : ', numOfRows)"
   ]
  },
  {
   "cell_type": "code",
   "execution_count": 15,
   "id": "3b7ff0b0",
   "metadata": {},
   "outputs": [
    {
     "name": "stdout",
     "output_type": "stream",
     "text": [
      "Total Number of elements in 2D Numpy array :  12\n"
     ]
    }
   ],
   "source": [
    "#Get total number of elements in this 2D NumPy array,\n",
    "totalNumberofElements = X2D.shape[0] * X2D.shape[1]\n",
    "print('Total Number of elements in 2D Numpy array : ',totalNumberofElements )"
   ]
  },
  {
   "cell_type": "code",
   "execution_count": 16,
   "id": "8d5da3ab",
   "metadata": {},
   "outputs": [
    {
     "name": "stdout",
     "output_type": "stream",
     "text": [
      "Total Number of elements in 2D Numpy array :  12\n"
     ]
    }
   ],
   "source": [
    "#Get total number of elements in this 2D NumPy array:\n",
    "\n",
    "print('Total Number of elements in 2D Numpy array : ', np.size(X2D))"
   ]
  },
  {
   "cell_type": "markdown",
   "id": "62591b72",
   "metadata": {},
   "source": [
    "# Complete example"
   ]
  },
  {
   "cell_type": "code",
   "execution_count": 17,
   "id": "3bae0aff",
   "metadata": {},
   "outputs": [
    {
     "name": "stdout",
     "output_type": "stream",
     "text": [
      "a1 =  [ 0  1  2  3  4  5  6  7  8  9 10 11 12 13 14 15 16 17 18 19]\n",
      "Number of axes (dimensions) of the array =  1\n",
      "Dimension of the array =  (20,)\n",
      "Total number of elements of the array =  4\n",
      "Type of the elements in the array =  int32\n"
     ]
    }
   ],
   "source": [
    "import numpy as np\n",
    "a1 = np.arange(20) ##\n",
    "print (\"a1 = \",a1)\n",
    "dim1=a1.ndim\n",
    "shape1=a1.shape\n",
    "size1=a1.itemsize\n",
    "datatype1=a1.dtype.name\n",
    "print (\"Number of axes (dimensions) of the array = \", dim1)\n",
    "print (\"Dimension of the array = \", shape1)\n",
    "print (\"Total number of elements of the array = \", size1)\n",
    "print (\"Type of the elements in the array = \", datatype1)"
   ]
  },
  {
   "cell_type": "markdown",
   "id": "eaec554c",
   "metadata": {},
   "source": [
    "# Function reshape()"
   ]
  },
  {
   "cell_type": "markdown",
   "id": "85595b57",
   "metadata": {},
   "source": [
    "The Convolution2D layers in Keras however, are designed to work with 3 dimensions per example.\n",
    "They have 4-dimensional inputs and outputs. This covers colour images (nb_samples,\n",
    "nb_channels, width, height), but more importantly, it covers deeper layers of the network, where\n",
    "each example has become a set of feature maps i.e. (nb_samples, nb_features, width, height)."
   ]
  },
  {
   "cell_type": "markdown",
   "id": "d9b13e02",
   "metadata": {},
   "source": [
    "# Illustrative Examples of 2D array using reshape()"
   ]
  },
  {
   "cell_type": "code",
   "execution_count": 19,
   "id": "211b3c2d",
   "metadata": {},
   "outputs": [
    {
     "name": "stdout",
     "output_type": "stream",
     "text": [
      "[ 0  1  2  3  4  5  6  7  8  9 10 11 12 13 14]\n",
      "Shape of 1D Array\n",
      "(15,)\n"
     ]
    }
   ],
   "source": [
    " a = np.arange(15) # 1D array\n",
    "\n",
    "print(a)\n",
    "print(\"Shape of 1D Array\")\n",
    "print(a.shape)"
   ]
  },
  {
   "cell_type": "code",
   "execution_count": 23,
   "id": "8ade8292",
   "metadata": {},
   "outputs": [
    {
     "name": "stdout",
     "output_type": "stream",
     "text": [
      "[[ 0  1  2  3  4]\n",
      " [ 5  6  7  8  9]\n",
      " [10 11 12 13 14]]\n",
      "Shape of 2D Array\n",
      "(3, 5)\n"
     ]
    }
   ],
   "source": [
    "## reshape- it genearte matrix of 2 rows and 3 columns\n",
    "\n",
    "c = a.reshape(3,5) # 2D array\n",
    "print(c)\n",
    "print(\"Shape of 2D Array\")\n",
    "print(c.shape)"
   ]
  },
  {
   "cell_type": "code",
   "execution_count": 24,
   "id": "e23e5b17",
   "metadata": {},
   "outputs": [
    {
     "name": "stdout",
     "output_type": "stream",
     "text": [
      "[[ 0  1  2]\n",
      " [ 3  4  5]\n",
      " [ 6  7  8]\n",
      " [ 9 10 11]\n",
      " [12 13 14]]\n",
      "Shape of 2D Array\n",
      "(5, 3)\n"
     ]
    }
   ],
   "source": [
    "## reshape- it genearte matrix of 2 rows and 3 columns\n",
    "\n",
    "c = a.reshape(5,3) # 2D array\n",
    "print(c)\n",
    "print(\"Shape of 2D Array\")\n",
    "print(c.shape)"
   ]
  },
  {
   "cell_type": "code",
   "execution_count": 25,
   "id": "dc4c0f9d",
   "metadata": {},
   "outputs": [
    {
     "name": "stdout",
     "output_type": "stream",
     "text": [
      "[[ 0]\n",
      " [ 1]\n",
      " [ 2]\n",
      " [ 3]\n",
      " [ 4]\n",
      " [ 5]\n",
      " [ 6]\n",
      " [ 7]\n",
      " [ 8]\n",
      " [ 9]\n",
      " [10]\n",
      " [11]\n",
      " [12]\n",
      " [13]\n",
      " [14]]\n",
      "Shape of 2D Array\n",
      "(15, 1)\n"
     ]
    }
   ],
   "source": [
    "## reshape- it genearte matrix of 2 rows and 3 columns\n",
    "\n",
    "c = a.reshape(15,1) # 2D array\n",
    "print(c)\n",
    "print(\"Shape of 2D Array\")\n",
    "print(c.shape)"
   ]
  },
  {
   "cell_type": "markdown",
   "id": "bfef2ec9",
   "metadata": {},
   "source": [
    "# Illustrative Examples of 3D Array using reshape()"
   ]
  },
  {
   "cell_type": "code",
   "execution_count": 26,
   "id": "26d79492",
   "metadata": {},
   "outputs": [
    {
     "name": "stdout",
     "output_type": "stream",
     "text": [
      "[[[ 0  1  2  3]\n",
      "  [ 4  5  6  7]\n",
      "  [ 8  9 10 11]]\n",
      "\n",
      " [[12 13 14 15]\n",
      "  [16 17 18 19]\n",
      "  [20 21 22 23]]]\n",
      "Axis 0 size :  2\n",
      "Axis 1 size :  3\n",
      "Axis 2 size :  4\n",
      "Shape of 3D Array\n",
      "(2, 3, 4)\n"
     ]
    }
   ],
   "source": [
    "#Example 1:\n",
    "\n",
    "## reshape- it genearte 3D matrix\n",
    "c = np.arange(24).reshape(2,3,4) # 3D array\n",
    "print(c)\n",
    "print('Axis 0 size : ', np.size(c, 0))\n",
    "print('Axis 1 size : ', np.size(c, 1))\n",
    "print('Axis 2 size : ', np.size(c, 2))\n",
    "print(\"Shape of 3D Array\")\n",
    "print(c.shape)"
   ]
  },
  {
   "cell_type": "code",
   "execution_count": 27,
   "id": "b37657b0",
   "metadata": {},
   "outputs": [
    {
     "name": "stdout",
     "output_type": "stream",
     "text": [
      "[[[ 0  1  2]\n",
      "  [ 3  4  5]\n",
      "  [ 6  7  8]]\n",
      "\n",
      " [[ 9 10 11]\n",
      "  [12 13 14]\n",
      "  [15 16 17]]\n",
      "\n",
      " [[18 19 20]\n",
      "  [21 22 23]\n",
      "  [24 25 26]]]\n",
      "Axis 0 size :  3\n",
      "Axis 1 size :  3\n",
      "Axis 2 size :  3\n",
      "Shape of 3D Array\n",
      "(3, 3, 3)\n"
     ]
    }
   ],
   "source": [
    "# Example 2:\n",
    "\n",
    "c = np.arange(27).reshape(3,3,3) # 3D array\n",
    "print(c)\n",
    "#Get number of elements per axis in 3D numpy array i.e.\n",
    "print('Axis 0 size : ', np.size(c, 0))\n",
    "print('Axis 1 size : ', np.size(c, 1))\n",
    "print('Axis 2 size : ', np.size(c, 2))\n",
    "print(\"Shape of 3D Array\")\n",
    "print(c.shape)"
   ]
  },
  {
   "cell_type": "markdown",
   "id": "ed36e53a",
   "metadata": {},
   "source": [
    "# Illustrative Examples of 4D Array using reshape()"
   ]
  },
  {
   "cell_type": "code",
   "execution_count": 30,
   "id": "b4f5fd0d",
   "metadata": {},
   "outputs": [
    {
     "name": "stdout",
     "output_type": "stream",
     "text": [
      "[[ 0  1  2  3]\n",
      " [ 4  5  6  7]\n",
      " [ 8  9 10 11]\n",
      " [12 13 14 15]]\n",
      "Array after reshaping\n",
      "[[[[ 0  1]\n",
      "   [ 2  3]]\n",
      "\n",
      "  [[ 4  5]\n",
      "   [ 6  7]]]\n",
      "\n",
      "\n",
      " [[[ 8  9]\n",
      "   [10 11]]\n",
      "\n",
      "  [[12 13]\n",
      "   [14 15]]]]\n",
      "Shape of Array after reshaping\n",
      "(2, 2, 2, 2)\n"
     ]
    }
   ],
   "source": [
    "# Example 4:\n",
    "\n",
    "## reshape- it genearte matrix of 2 rows and 3 columns\n",
    "c1 = np.arange(16).reshape(4,4) # 2D array\n",
    "print(c1)\n",
    "c = c1.reshape(2,2,2,2) # 4D array\n",
    "print(\"Array after reshaping\")\n",
    "print(c)\n",
    "print(\"Shape of Array after reshaping\")\n",
    "print(c.shape)"
   ]
  },
  {
   "cell_type": "markdown",
   "id": "d5e8054c",
   "metadata": {},
   "source": [
    "# If an array is too large to be printed, NumPy automatically skips the central part of the array and only prints the corners:"
   ]
  },
  {
   "cell_type": "code",
   "execution_count": 31,
   "id": "b22a0f18",
   "metadata": {},
   "outputs": [
    {
     "name": "stdout",
     "output_type": "stream",
     "text": [
      "[   0    1    2 ... 9997 9998 9999]\n"
     ]
    }
   ],
   "source": [
    "print(np.arange(10000))"
   ]
  },
  {
   "cell_type": "code",
   "execution_count": 32,
   "id": "1500c7fa",
   "metadata": {},
   "outputs": [
    {
     "name": "stdout",
     "output_type": "stream",
     "text": [
      "[[   0    1    2 ...   97   98   99]\n",
      " [ 100  101  102 ...  197  198  199]\n",
      " [ 200  201  202 ...  297  298  299]\n",
      " ...\n",
      " [9700 9701 9702 ... 9797 9798 9799]\n",
      " [9800 9801 9802 ... 9897 9898 9899]\n",
      " [9900 9901 9902 ... 9997 9998 9999]]\n"
     ]
    }
   ],
   "source": [
    "print(np.arange(10000).reshape(100,100))"
   ]
  },
  {
   "cell_type": "markdown",
   "id": "b1f3a112",
   "metadata": {},
   "source": [
    "# ndarry.itemsize"
   ]
  },
  {
   "cell_type": "code",
   "execution_count": 33,
   "id": "c6b77cba",
   "metadata": {},
   "outputs": [
    {
     "name": "stdout",
     "output_type": "stream",
     "text": [
      "[ 2  4  6  8 10]\n",
      "1\n"
     ]
    }
   ],
   "source": [
    "#Example 1\n",
    "\n",
    "# dtype of array is int8 (1 byte)\n",
    "import numpy as np\n",
    "x = np.array([2,4,6,8,10], dtype = np.int8)\n",
    "print(x)\n",
    "print(x.itemsize)"
   ]
  },
  {
   "cell_type": "code",
   "execution_count": 34,
   "id": "b13b0309",
   "metadata": {},
   "outputs": [
    {
     "name": "stdout",
     "output_type": "stream",
     "text": [
      "[ 2  4  6  8 10]\n",
      "2\n"
     ]
    }
   ],
   "source": [
    "#Example 2\n",
    "\n",
    "# dtype of array is int16 (2 bytes)\n",
    "import numpy as np\n",
    "x = np.array([2,4,6,8,10], dtype = np.int16)\n",
    "print(x)\n",
    "print(x.itemsize)"
   ]
  },
  {
   "cell_type": "code",
   "execution_count": 35,
   "id": "840e5841",
   "metadata": {},
   "outputs": [
    {
     "name": "stdout",
     "output_type": "stream",
     "text": [
      "[ 2.  4.  6.  8. 10.]\n",
      "8\n"
     ]
    }
   ],
   "source": [
    "#Example 3\n",
    "\n",
    "# dtype of array is float32 (8 bytes)\n",
    "import numpy as np\n",
    "x = np.array([2,4,6,8,10], dtype = np.float64)\n",
    "print(x)\n",
    "print(x.itemsize)"
   ]
  },
  {
   "cell_type": "markdown",
   "id": "eec20d3f",
   "metadata": {},
   "source": [
    "\n",
    "# Get Dimensions of a 3D numpy array using numpy.size()"
   ]
  },
  {
   "cell_type": "code",
   "execution_count": 37,
   "id": "71b97893",
   "metadata": {},
   "outputs": [
    {
     "name": "stdout",
     "output_type": "stream",
     "text": [
      "[[[11 12 13 11]\n",
      "  [21 22 23 24]\n",
      "  [31 32 33 34]]\n",
      "\n",
      " [[ 1  1  1  1]\n",
      "  [ 2  2  2  2]\n",
      "  [ 3  3  3  3]]]\n",
      "Axis 0 size :  2\n",
      "Axis 1 size :  3\n",
      "Axis 2 size :  4\n"
     ]
    }
   ],
   "source": [
    "# Create a 3D Numpy array list of list of list\n",
    "\n",
    "X3D = np.array([ [[11, 12, 13, 11], [21, 22, 23, 24], [31, 32, 33, 34]],\n",
    "\n",
    "[[1, 1, 1, 1], [2, 2, 2, 2], [3, 3, 3, 3]] ])\n",
    "\n",
    "print(X3D)\n",
    "#Get number of elements per axis in 3D numpy array i.e.\n",
    "print('Axis 0 size : ', np.size(X3D, 0))\n",
    "print('Axis 1 size : ', np.size(X3D, 1))\n",
    "print('Axis 2 size : ', np.size(X3D, 2))"
   ]
  },
  {
   "cell_type": "markdown",
   "id": "2e740d9b",
   "metadata": {},
   "source": [
    "# Illustrative examples of Other Array Creation"
   ]
  },
  {
   "cell_type": "code",
   "execution_count": 38,
   "id": "888af35a",
   "metadata": {},
   "outputs": [
    {
     "data": {
      "text/plain": [
       "array([[1.5, 2. , 3. ],\n",
       "       [4. , 5. , 6. ]])"
      ]
     },
     "execution_count": 38,
     "metadata": {},
     "output_type": "execute_result"
    }
   ],
   "source": [
    "import numpy as np\n",
    "\n",
    "#b = np.array(([(1.5,2,3), (4,5,6)]),dtype=int)\n",
    "b = np.array([(1.5,2,3), (4,5,6)])\n",
    "b"
   ]
  },
  {
   "cell_type": "code",
   "execution_count": 39,
   "id": "38311a9f",
   "metadata": {},
   "outputs": [
    {
     "data": {
      "text/plain": [
       "array([[1.+0.j, 2.+0.j],\n",
       "       [3.+0.j, 4.+0.j]])"
      ]
     },
     "execution_count": 39,
     "metadata": {},
     "output_type": "execute_result"
    }
   ],
   "source": [
    "c = np.array( [ [1,2], [3,4] ], dtype=complex )\n",
    "\n",
    "c"
   ]
  },
  {
   "cell_type": "code",
   "execution_count": 40,
   "id": "cadbff36",
   "metadata": {},
   "outputs": [
    {
     "data": {
      "text/plain": [
       "array([0. , 0.3, 0.6, 0.9, 1.2, 1.5, 1.8])"
      ]
     },
     "execution_count": 40,
     "metadata": {},
     "output_type": "execute_result"
    }
   ],
   "source": [
    "np.arange( 0, 2, 0.3 ) # it accepts float arguments"
   ]
  },
  {
   "cell_type": "code",
   "execution_count": 41,
   "id": "85d90ea5",
   "metadata": {},
   "outputs": [
    {
     "data": {
      "text/plain": [
       "array([0.  , 0.25, 0.5 , 0.75, 1.  , 1.25, 1.5 , 1.75, 2.  ])"
      ]
     },
     "execution_count": 41,
     "metadata": {},
     "output_type": "execute_result"
    }
   ],
   "source": [
    "from numpy import pi\n",
    "\n",
    "np.linspace( 0, 2, 9 ) # 9 numbers from 0 to 2"
   ]
  },
  {
   "cell_type": "code",
   "execution_count": 44,
   "id": "5060fdc4",
   "metadata": {},
   "outputs": [
    {
     "name": "stdout",
     "output_type": "stream",
     "text": [
      "[0.         0.06346652 0.12693304 0.19039955 0.25386607 0.31733259\n",
      " 0.38079911 0.44426563 0.50773215 0.57119866 0.63466518 0.6981317\n",
      " 0.76159822 0.82506474 0.88853126 0.95199777 1.01546429 1.07893081\n",
      " 1.14239733 1.20586385 1.26933037 1.33279688 1.3962634  1.45972992\n",
      " 1.52319644 1.58666296 1.65012947 1.71359599 1.77706251 1.84052903\n",
      " 1.90399555 1.96746207 2.03092858 2.0943951  2.15786162 2.22132814\n",
      " 2.28479466 2.34826118 2.41172769 2.47519421 2.53866073 2.60212725\n",
      " 2.66559377 2.72906028 2.7925268  2.85599332 2.91945984 2.98292636\n",
      " 3.04639288 3.10985939 3.17332591 3.23679243 3.30025895 3.36372547\n",
      " 3.42719199 3.4906585  3.55412502 3.61759154 3.68105806 3.74452458\n",
      " 3.8079911  3.87145761 3.93492413 3.99839065 4.06185717 4.12532369\n",
      " 4.1887902  4.25225672 4.31572324 4.37918976 4.44265628 4.5061228\n",
      " 4.56958931 4.63305583 4.69652235 4.75998887 4.82345539 4.88692191\n",
      " 4.95038842 5.01385494 5.07732146 5.14078798 5.2042545  5.26772102\n",
      " 5.33118753 5.39465405 5.45812057 5.52158709 5.58505361 5.64852012\n",
      " 5.71198664 5.77545316 5.83891968 5.9023862  5.96585272 6.02931923\n",
      " 6.09278575 6.15625227 6.21971879 6.28318531]\n",
      "[ 0.00000000e+00  6.34239197e-02  1.26592454e-01  1.89251244e-01\n",
      "  2.51147987e-01  3.12033446e-01  3.71662456e-01  4.29794912e-01\n",
      "  4.86196736e-01  5.40640817e-01  5.92907929e-01  6.42787610e-01\n",
      "  6.90079011e-01  7.34591709e-01  7.76146464e-01  8.14575952e-01\n",
      "  8.49725430e-01  8.81453363e-01  9.09631995e-01  9.34147860e-01\n",
      "  9.54902241e-01  9.71811568e-01  9.84807753e-01  9.93838464e-01\n",
      "  9.98867339e-01  9.99874128e-01  9.96854776e-01  9.89821442e-01\n",
      "  9.78802446e-01  9.63842159e-01  9.45000819e-01  9.22354294e-01\n",
      "  8.95993774e-01  8.66025404e-01  8.32569855e-01  7.95761841e-01\n",
      "  7.55749574e-01  7.12694171e-01  6.66769001e-01  6.18158986e-01\n",
      "  5.67059864e-01  5.13677392e-01  4.58226522e-01  4.00930535e-01\n",
      "  3.42020143e-01  2.81732557e-01  2.20310533e-01  1.58001396e-01\n",
      "  9.50560433e-02  3.17279335e-02 -3.17279335e-02 -9.50560433e-02\n",
      " -1.58001396e-01 -2.20310533e-01 -2.81732557e-01 -3.42020143e-01\n",
      " -4.00930535e-01 -4.58226522e-01 -5.13677392e-01 -5.67059864e-01\n",
      " -6.18158986e-01 -6.66769001e-01 -7.12694171e-01 -7.55749574e-01\n",
      " -7.95761841e-01 -8.32569855e-01 -8.66025404e-01 -8.95993774e-01\n",
      " -9.22354294e-01 -9.45000819e-01 -9.63842159e-01 -9.78802446e-01\n",
      " -9.89821442e-01 -9.96854776e-01 -9.99874128e-01 -9.98867339e-01\n",
      " -9.93838464e-01 -9.84807753e-01 -9.71811568e-01 -9.54902241e-01\n",
      " -9.34147860e-01 -9.09631995e-01 -8.81453363e-01 -8.49725430e-01\n",
      " -8.14575952e-01 -7.76146464e-01 -7.34591709e-01 -6.90079011e-01\n",
      " -6.42787610e-01 -5.92907929e-01 -5.40640817e-01 -4.86196736e-01\n",
      " -4.29794912e-01 -3.71662456e-01 -3.12033446e-01 -2.51147987e-01\n",
      " -1.89251244e-01 -1.26592454e-01 -6.34239197e-02 -2.44929360e-16]\n"
     ]
    }
   ],
   "source": [
    "# x = np.linspace( 0, 2*pi, 100 ) # useful to evaluate function at lots of points\n",
    "x = np.linspace( 0, 2*np.pi, 100 ) # useful to evaluate function at lots of points\n",
    "f = np.sin(x)\n",
    "print(x)\n",
    "print(f)"
   ]
  },
  {
   "cell_type": "markdown",
   "id": "abeeed3b",
   "metadata": {},
   "source": [
    "# Concatenating tensors in deep learning"
   ]
  },
  {
   "cell_type": "code",
   "execution_count": 47,
   "id": "dff53c45",
   "metadata": {},
   "outputs": [
    {
     "name": "stdout",
     "output_type": "stream",
     "text": [
      "a= [[6 1]\n",
      " [2 0]]\n",
      "b= [[8 3]\n",
      " [6 7]]\n"
     ]
    }
   ],
   "source": [
    "a =np.array([[ 6, 1],\n",
    "[2,0]])\n",
    "b=np.array([[ 8, 3],\n",
    "[6,7]])\n",
    "print('a=',a)\n",
    "print('b=',b)"
   ]
  },
  {
   "cell_type": "code",
   "execution_count": 48,
   "id": "8ca589e0",
   "metadata": {},
   "outputs": [
    {
     "data": {
      "text/plain": [
       "array([[6, 1],\n",
       "       [2, 0],\n",
       "       [8, 3],\n",
       "       [6, 7]])"
      ]
     },
     "execution_count": 48,
     "metadata": {},
     "output_type": "execute_result"
    }
   ],
   "source": [
    "np.vstack((a,b))"
   ]
  },
  {
   "cell_type": "code",
   "execution_count": 49,
   "id": "876eac99",
   "metadata": {},
   "outputs": [
    {
     "data": {
      "text/plain": [
       "array([[6, 1, 8, 3],\n",
       "       [2, 0, 6, 7]])"
      ]
     },
     "execution_count": 49,
     "metadata": {},
     "output_type": "execute_result"
    }
   ],
   "source": [
    "np.hstack((a,b))"
   ]
  },
  {
   "cell_type": "markdown",
   "id": "b7fc3145",
   "metadata": {},
   "source": [
    "# Splitting one array into several smaller ones"
   ]
  },
  {
   "cell_type": "code",
   "execution_count": 50,
   "id": "4c45a034",
   "metadata": {},
   "outputs": [
    {
     "data": {
      "text/plain": [
       "array([[ 0,  1,  2,  3,  4,  5],\n",
       "       [ 6,  7,  8,  9, 10, 11],\n",
       "       [12, 13, 14, 15, 16, 17],\n",
       "       [18, 19, 20, 21, 22, 23]])"
      ]
     },
     "execution_count": 50,
     "metadata": {},
     "output_type": "execute_result"
    }
   ],
   "source": [
    "import numpy as np\n",
    "\n",
    "b = np.arange(24).reshape(4,6)\n",
    "b"
   ]
  },
  {
   "cell_type": "code",
   "execution_count": 51,
   "id": "73263b5d",
   "metadata": {},
   "outputs": [
    {
     "data": {
      "text/plain": [
       "[array([[ 0,  1],\n",
       "        [ 6,  7],\n",
       "        [12, 13],\n",
       "        [18, 19]]),\n",
       " array([[ 2,  3],\n",
       "        [ 8,  9],\n",
       "        [14, 15],\n",
       "        [20, 21]]),\n",
       " array([[ 4,  5],\n",
       "        [10, 11],\n",
       "        [16, 17],\n",
       "        [22, 23]])]"
      ]
     },
     "execution_count": 51,
     "metadata": {},
     "output_type": "execute_result"
    }
   ],
   "source": [
    "np.hsplit(b,3)"
   ]
  },
  {
   "cell_type": "code",
   "execution_count": 52,
   "id": "2762ce53",
   "metadata": {},
   "outputs": [
    {
     "data": {
      "text/plain": [
       "[array([[ 0,  1,  2],\n",
       "        [ 6,  7,  8],\n",
       "        [12, 13, 14],\n",
       "        [18, 19, 20]]),\n",
       " array([[ 3],\n",
       "        [ 9],\n",
       "        [15],\n",
       "        [21]]),\n",
       " array([[ 4,  5],\n",
       "        [10, 11],\n",
       "        [16, 17],\n",
       "        [22, 23]])]"
      ]
     },
     "execution_count": 52,
     "metadata": {},
     "output_type": "execute_result"
    }
   ],
   "source": [
    "np.hsplit(b,(3,4))"
   ]
  },
  {
   "cell_type": "markdown",
   "id": "35d18da1",
   "metadata": {},
   "source": [
    "# Matrices Operation"
   ]
  },
  {
   "cell_type": "markdown",
   "id": "849eb42d",
   "metadata": {},
   "source": [
    "# Array operation: Addition"
   ]
  },
  {
   "cell_type": "code",
   "execution_count": 57,
   "id": "6e5c0b8f",
   "metadata": {},
   "outputs": [
    {
     "name": "stdout",
     "output_type": "stream",
     "text": [
      "[0 1]\n",
      "[2 3]\n"
     ]
    },
    {
     "data": {
      "text/plain": [
       "array([2, 4])"
      ]
     },
     "execution_count": 57,
     "metadata": {},
     "output_type": "execute_result"
    }
   ],
   "source": [
    "import numpy as np\n",
    "x1=np.arange(0,2)\n",
    "#x1=np.arange(2)\n",
    "print(x1)\n",
    "x2=np.arange(2,4)\n",
    "print(x2)\n",
    "np.add(x1, x2)"
   ]
  },
  {
   "cell_type": "code",
   "execution_count": 58,
   "id": "0cadd783",
   "metadata": {},
   "outputs": [
    {
     "name": "stdout",
     "output_type": "stream",
     "text": [
      "[[1 2 3]\n",
      " [4 5 6]\n",
      " [7 8 9]]\n",
      "[[10 20 30]\n",
      " [40 50 60]\n",
      " [70 80 90]]\n"
     ]
    },
    {
     "data": {
      "text/plain": [
       "matrix([[11, 22, 33],\n",
       "        [44, 55, 66],\n",
       "        [77, 88, 99]])"
      ]
     },
     "execution_count": 58,
     "metadata": {},
     "output_type": "execute_result"
    }
   ],
   "source": [
    "a = np.matrix('1 2 3; 4 5 6; 7 8 9')\n",
    "\n",
    "print(a)\n",
    "b= np.matrix('10 20 30; 40 50 60; 70 80 90')\n",
    "print(b)\n",
    "np.add(a, b)"
   ]
  },
  {
   "cell_type": "markdown",
   "id": "08c885f2",
   "metadata": {},
   "source": [
    "# Matrix Addition using Nested Loop"
   ]
  },
  {
   "cell_type": "code",
   "execution_count": 59,
   "id": "b8154d4d",
   "metadata": {},
   "outputs": [
    {
     "name": "stdout",
     "output_type": "stream",
     "text": [
      "[11, 22, 33]\n",
      "[44, 55, 66]\n",
      "[77, 88, 99]\n"
     ]
    }
   ],
   "source": [
    "# first matrix\n",
    "a = [[1, 2, 3],\n",
    "    [4, 5, 6],\n",
    "    [7, 8, 9]]\n",
    "# second matrix\n",
    "b = [[10, 20, 30],\n",
    "    [40, 50, 60],\n",
    "    [70, 80, 90]]\n",
    "# In this matrix we will store the sum of above matrices\n",
    "# we have initialized all the elements of this matrix as zero\n",
    "sum = [[0, 0, 0],\n",
    "     [0, 0, 0],\n",
    "     [0, 0, 0]]\n",
    "# iterating the matrix\n",
    "# rows: number of nested lists in the main list\n",
    "# columns: number of elements in the nested lists\n",
    "for i in range(len(a)):\n",
    "    for j in range(len(a[0])):\n",
    "        sum[i][j] = a[i][j] + b[i][j]\n",
    "        # displaying the output matrix\n",
    "for num in sum:\n",
    "    print(num)"
   ]
  },
  {
   "cell_type": "markdown",
   "id": "421086b7",
   "metadata": {},
   "source": [
    "# Matrix Addition using Nested List Comprehension"
   ]
  },
  {
   "cell_type": "code",
   "execution_count": 60,
   "id": "418ea60d",
   "metadata": {},
   "outputs": [
    {
     "name": "stdout",
     "output_type": "stream",
     "text": [
      "[11, 22, 33]\n",
      "[44, 55, 66]\n",
      "[77, 88, 99]\n"
     ]
    }
   ],
   "source": [
    "# first matrix\n",
    "a = [[1, 2, 3],\n",
    "    [4, 5, 6],\n",
    "    [7, 8, 9]]\n",
    "# second matrix\n",
    "b = [[10, 20, 30],\n",
    "    [40, 50, 60],\n",
    "    [70, 80, 90]]\n",
    "# In this matrix we will store the sum of above matrices\n",
    "# we have initialized all the elements of this matrix as zero\n",
    "sum = [[0, 0, 0],\n",
    "     [0, 0, 0],\n",
    "     [0, 0, 0]]\n",
    "# iterating the matrix\n",
    "# rows: number of nested lists in the main list\n",
    "# columns: number of elements in the nested lists\n",
    "result = [[a[i][j] + b[i][j] for j in range(len(a[0]))] for i in range(len(a))]\n",
    "for r in result:\n",
    "    print(r)"
   ]
  },
  {
   "cell_type": "markdown",
   "id": "51a0e685",
   "metadata": {},
   "source": [
    "# Array operation: Subtraction"
   ]
  },
  {
   "cell_type": "code",
   "execution_count": 61,
   "id": "bcbe2a2f",
   "metadata": {},
   "outputs": [
    {
     "name": "stdout",
     "output_type": "stream",
     "text": [
      "[[1 2 3]\n",
      " [4 5 6]\n",
      " [7 8 9]]\n",
      "[[10 20 30]\n",
      " [40 50 60]\n",
      " [70 80 90]]\n"
     ]
    },
    {
     "data": {
      "text/plain": [
       "matrix([[ 9, 18, 27],\n",
       "        [36, 45, 54],\n",
       "        [63, 72, 81]])"
      ]
     },
     "execution_count": 61,
     "metadata": {},
     "output_type": "execute_result"
    }
   ],
   "source": [
    "a = np.matrix('1 2 3; 4 5 6; 7 8 9')\n",
    "\n",
    "print(a)\n",
    "b= np.matrix('10 20 30; 40 50 60; 70 80 90')\n",
    "print(b)\n",
    "np.subtract(b, a)"
   ]
  },
  {
   "cell_type": "code",
   "execution_count": 62,
   "id": "35f40036",
   "metadata": {},
   "outputs": [
    {
     "name": "stdout",
     "output_type": "stream",
     "text": [
      "[9, 18, 27]\n",
      "[36, 45, 54]\n",
      "[63, 72, 81]\n"
     ]
    }
   ],
   "source": [
    "# This program is to subtrac two given matrices\n",
    "\n",
    "# We are using the concept of nested lists to represent matrix\n",
    "# first matrix\n",
    "a = [[1, 2, 3],\n",
    "    [4, 5, 6],\n",
    "    [7, 8, 9]]\n",
    "# second matrix\n",
    "b = [[10, 20, 30],\n",
    "    [40, 50, 60],\n",
    "    [70, 80, 90]]\n",
    "# In this matrix we will store the sum of above matrices\n",
    "# we have initialized all the elements of this matrix as zero\n",
    "sub = [[0, 0, 0],\n",
    "        [0, 0, 0],\n",
    "        [0, 0, 0]]\n",
    "# iterating the matrix\n",
    "# rows: number of nested lists in the main list\n",
    "# columns: number of elements in the nested lists\n",
    "for i in range(len(a)):\n",
    "    for j in range(len(a[0])):\n",
    "        sub[i][j] = b[i][j] - a[i][j]\n",
    "        # displaying the output matrix\n",
    "for num in sub:\n",
    "    print(num)"
   ]
  },
  {
   "cell_type": "markdown",
   "id": "50f8ea81",
   "metadata": {},
   "source": [
    "# Array operation: Multiplication"
   ]
  },
  {
   "cell_type": "code",
   "execution_count": 63,
   "id": "7911cb1f",
   "metadata": {},
   "outputs": [
    {
     "name": "stdout",
     "output_type": "stream",
     "text": [
      "[[1 2 3]\n",
      " [4 5 6]\n",
      " [7 8 9]]\n",
      "[[10 20 30]\n",
      " [40 50 60]\n",
      " [70 80 90]]\n"
     ]
    },
    {
     "data": {
      "text/plain": [
       "matrix([[ 300,  360,  420],\n",
       "        [ 660,  810,  960],\n",
       "        [1020, 1260, 1500]])"
      ]
     },
     "execution_count": 63,
     "metadata": {},
     "output_type": "execute_result"
    }
   ],
   "source": [
    "import numpy as np\n",
    "\n",
    "a = np.matrix('1 2 3; 4 5 6; 7 8 9')\n",
    "print(a)\n",
    "b= np.matrix('10 20 30; 40 50 60; 70 80 90')\n",
    "print (b)\n",
    "np.matmul(a, b)"
   ]
  },
  {
   "cell_type": "markdown",
   "id": "067a78e8",
   "metadata": {},
   "source": [
    "# Matrix Multiplication using Nested Loop"
   ]
  },
  {
   "cell_type": "code",
   "execution_count": 65,
   "id": "e40d494f",
   "metadata": {},
   "outputs": [
    {
     "name": "stdout",
     "output_type": "stream",
     "text": [
      "[300, 360, 420]\n",
      "[660, 810, 960]\n",
      "[1020, 1260, 1500]\n"
     ]
    }
   ],
   "source": [
    "# first matrix\n",
    "A = [[1, 2, 3],\n",
    "    [4, 5, 6],\n",
    "    [7, 8, 9]]\n",
    "# second matrix\n",
    "B = [[10, 20, 30],\n",
    "    [40, 50, 60],\n",
    "    [70, 80, 90]]\n",
    "# result is 3x4\n",
    "mul_result = [[0,0,0],\n",
    "              [0,0,0],\n",
    "              [0,0,0]]\n",
    "    \n",
    "# iterate through rows of X\n",
    "for i in range(len(A)):\n",
    "    # iterate through columns of A\n",
    "    for j in range(len(B[0])):\n",
    "        # iterate through rows of B\n",
    "        for k in range(len(B)):\n",
    "            mul_result[i][j] += A[i][k] * B[k][j]\n",
    "\n",
    "for r in mul_result:\n",
    "    print(r)"
   ]
  },
  {
   "cell_type": "markdown",
   "id": "b9f55725",
   "metadata": {},
   "source": [
    "# Matrix Multiplication Using Nested List Comprehension"
   ]
  },
  {
   "cell_type": "code",
   "execution_count": 66,
   "id": "252adf0e",
   "metadata": {},
   "outputs": [
    {
     "data": {
      "text/plain": [
       "[(1, 4), (2, 5), (3, 6)]"
      ]
     },
     "execution_count": 66,
     "metadata": {},
     "output_type": "execute_result"
    }
   ],
   "source": [
    "# Illustration of zip inbulit function\n",
    "\n",
    "x = [1, 2, 3]\n",
    "y = [4, 5, 6]\n",
    "zipped = zip(x, y)\n",
    "list(zipped)"
   ]
  },
  {
   "cell_type": "markdown",
   "id": "ece77cb8",
   "metadata": {},
   "source": [
    "# Matrix Power"
   ]
  },
  {
   "cell_type": "code",
   "execution_count": 72,
   "id": "29959e65",
   "metadata": {},
   "outputs": [
    {
     "name": "stdout",
     "output_type": "stream",
     "text": [
      "[[1 2 3]\n",
      " [4 5 6]\n",
      " [7 8 9]]\n"
     ]
    },
    {
     "data": {
      "text/plain": [
       "matrix([[ 1,  4,  9],\n",
       "        [16, 25, 36],\n",
       "        [49, 64, 81]], dtype=int32)"
      ]
     },
     "execution_count": 72,
     "metadata": {},
     "output_type": "execute_result"
    }
   ],
   "source": [
    "import numpy as np\n",
    "import matplotlib.pyplot as pyplot\n",
    "X = np.matrix('1 2 3; 4 5 6; 7 8 9')\n",
    "print(X)\n",
    "np.power(X, 2)"
   ]
  },
  {
   "cell_type": "markdown",
   "id": "b9a1ea99",
   "metadata": {},
   "source": [
    "# Array operation: Division"
   ]
  },
  {
   "cell_type": "code",
   "execution_count": 73,
   "id": "67aac76d",
   "metadata": {},
   "outputs": [
    {
     "name": "stdout",
     "output_type": "stream",
     "text": [
      "[[ 2  4  6]\n",
      " [ 4  8  6]\n",
      " [ 2  8 10]]\n",
      "2\n"
     ]
    },
    {
     "data": {
      "text/plain": [
       "matrix([[1., 2., 3.],\n",
       "        [2., 4., 3.],\n",
       "        [1., 4., 5.]])"
      ]
     },
     "execution_count": 73,
     "metadata": {},
     "output_type": "execute_result"
    }
   ],
   "source": [
    "a = np.matrix('2 4 6; 4 8 6; 2 8 10')\n",
    "\n",
    "print(a)\n",
    "b= 2\n",
    "print(b)\n",
    "np.divide(a, b)"
   ]
  },
  {
   "cell_type": "markdown",
   "id": "a71abad2",
   "metadata": {},
   "source": [
    "# Matrix Inverse"
   ]
  },
  {
   "cell_type": "code",
   "execution_count": 74,
   "id": "b3c557df",
   "metadata": {},
   "outputs": [
    {
     "name": "stdout",
     "output_type": "stream",
     "text": [
      "[[1 2 3]\n",
      " [4 5 6]\n",
      " [7 8 0]]\n",
      "[[-1.77777778  0.88888889 -0.11111111]\n",
      " [ 1.55555556 -0.77777778  0.22222222]\n",
      " [-0.11111111  0.22222222 -0.11111111]]\n"
     ]
    }
   ],
   "source": [
    "import numpy as np\n",
    "\n",
    "import matplotlib.pyplot as pyplot\n",
    "a = np.matrix('1 2 3; 4 5 6; 7 8 0')\n",
    "print(a)\n",
    "ainv = np.linalg.inv(a)\n",
    "print (ainv)"
   ]
  },
  {
   "cell_type": "code",
   "execution_count": null,
   "id": "4bbfebad",
   "metadata": {},
   "outputs": [],
   "source": []
  }
 ],
 "metadata": {
  "kernelspec": {
   "display_name": "Python 3 (ipykernel)",
   "language": "python",
   "name": "python3"
  },
  "language_info": {
   "codemirror_mode": {
    "name": "ipython",
    "version": 3
   },
   "file_extension": ".py",
   "mimetype": "text/x-python",
   "name": "python",
   "nbconvert_exporter": "python",
   "pygments_lexer": "ipython3",
   "version": "3.9.7"
  }
 },
 "nbformat": 4,
 "nbformat_minor": 5
}
